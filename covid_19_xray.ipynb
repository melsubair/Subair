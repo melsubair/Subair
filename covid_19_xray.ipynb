{
  "nbformat": 4,
  "nbformat_minor": 0,
  "metadata": {
    "colab": {
      "name": "covid-19-xray.ipynb",
      "provenance": [],
      "collapsed_sections": [],
      "authorship_tag": "ABX9TyOJNIYjJ/h+ubxBje2ZqHh3",
      "include_colab_link": true
    },
    "kernelspec": {
      "name": "python3",
      "display_name": "Python 3"
    }
  },
  "cells": [
    {
      "cell_type": "markdown",
      "metadata": {
        "id": "view-in-github",
        "colab_type": "text"
      },
      "source": [
        "<a href=\"https://colab.research.google.com/github/melsubair/Subair/blob/master/covid_19_xray.ipynb\" target=\"_parent\"><img src=\"https://colab.research.google.com/assets/colab-badge.svg\" alt=\"Open In Colab\"/></a>"
      ]
    },
    {
      "cell_type": "code",
      "metadata": {
        "id": "-uE_m1uP6Tfo",
        "colab_type": "code",
        "colab": {
          "base_uri": "https://localhost:8080/",
          "height": 34
        },
        "outputId": "07cd8102-372c-489e-faf2-377c0fa795e3"
      },
      "source": [
        "import os\n",
        "import cv2\n",
        "import scipy\n",
        "import warnings\n",
        "import numpy as np\n",
        "from tqdm import tqdm\n",
        "from random import shuffle\n",
        "import matplotlib.pyplot as plt\n",
        "\n",
        "from keras.optimizers import Adam, RMSprop\n",
        "from keras.models import Sequential, Model\n",
        "from keras.layers import  Conv2D, MaxPooling2D, Activation, Flatten,Dense, Dropout, GlobalAveragePooling2D, BatchNormalization\n",
        "from keras.preprocessing.image import ImageDataGenerator, img_to_array, load_img"
      ],
      "execution_count": 1,
      "outputs": [
        {
          "output_type": "stream",
          "text": [
            "Using TensorFlow backend.\n"
          ],
          "name": "stderr"
        }
      ]
    },
    {
      "cell_type": "code",
      "metadata": {
        "id": "4HPvQqX06yiy",
        "colab_type": "code",
        "colab": {}
      },
      "source": [
        "# Filter Warnings\n",
        "warnings.filterwarnings(\"ignore\")"
      ],
      "execution_count": 2,
      "outputs": []
    },
    {
      "cell_type": "code",
      "metadata": {
        "id": "wscepGxRDsll",
        "colab_type": "code",
        "colab": {}
      },
      "source": [
        "# File Paths\n",
        "input_path = \"../covid-19-xray/\""
      ],
      "execution_count": 3,
      "outputs": []
    },
    {
      "cell_type": "code",
      "metadata": {
        "id": "x3-paicSEBaZ",
        "colab_type": "code",
        "colab": {
          "base_uri": "https://localhost:8080/",
          "height": 51
        },
        "outputId": "482058d4-8a12-4c6d-e00e-132f2cbb6c29"
      },
      "source": [
        "# File Contents\n",
        "for _set in ['train', 'test']:\n",
        "    normal = len(os.listdir(input_path + _set + '/normal'))\n",
        "    pneumonia = len(os.listdir(input_path + _set + '/pneumonia'))\n",
        "    print('The {} folder contains {} Normal and {} Pneumonia images.'.format(_set, normal, pneumonia))"
      ],
      "execution_count": 5,
      "outputs": [
        {
          "output_type": "stream",
          "text": [
            "The train folder contains 1336 Normal and 1615 Pneumonia images.\n",
            "The test folder contains 234 Normal and 390 Pneumonia images.\n"
          ],
          "name": "stdout"
        }
      ]
    },
    {
      "cell_type": "code",
      "metadata": {
        "id": "TJ4bIi5DGGpd",
        "colab_type": "code",
        "colab": {}
      },
      "source": [
        "# Preprocesing Data Function\n",
        "def preprocess_data(input_path, img_dims, batch_size):\n",
        "    \n",
        "    # Data Augmentation for Train & Test Images\n",
        "    train_datagen = ImageDataGenerator(\n",
        "        rescale = 1./255,\n",
        "        zoom_range = 0.2,\n",
        "        shear_range = 0.2,      \n",
        "        rotation_range = 40,\n",
        "        width_shift_range = 0.2,\n",
        "        height_shift_range = 0.2,\n",
        "        horizontal_flip = True,\n",
        "        fill_mode='nearest')\n",
        "\n",
        "    test_datagen = ImageDataGenerator(\n",
        "        rescale = 1./255)\n",
        "    \n",
        "    train_images = train_datagen.flow_from_directory(\n",
        "        directory = input_path + 'train', \n",
        "        target_size = (img_dims, img_dims), \n",
        "        batch_size = batch_size, \n",
        "        class_mode = 'binary')\n",
        "\n",
        "    test_images = test_datagen.flow_from_directory(\n",
        "        directory = input_path + 'test', \n",
        "        target_size = (img_dims, img_dims), \n",
        "        batch_size = batch_size, \n",
        "        class_mode = 'binary')\n",
        "\n",
        "    # I'm created these lists for make prediction on test image and showing confusion matrix.\n",
        "    train_labels = []\n",
        "    test_labels = []\n",
        "\n",
        "    for file_name in ['/normal/', '/pneumonia/']:\n",
        "        for img in (os.listdir(input_path + 'test' + file_name)):\n",
        "            img = cv2.imread(input_path + 'test' + file_name + img, cv2.IMREAD_GRAYSCALE)\n",
        "            img = cv2.resize(img, (img_dims, img_dims))\n",
        "            img = np.dstack([img, img, img])\n",
        "            img = img.astype('float32') / 255\n",
        "            if file_name == '/normal/':\n",
        "                label = 0\n",
        "            elif file_name == '/pneumonia/':\n",
        "                label = 1\n",
        "            train_labels.append(img)\n",
        "            test_labels.append(label)\n",
        "        \n",
        "    train_labels = np.array(train_labels)\n",
        "    test_labels = np.array(test_labels)\n",
        "    \n",
        "    return train_images, train_labels, test_images, test_labels"
      ],
      "execution_count": 6,
      "outputs": []
    },
    {
      "cell_type": "code",
      "metadata": {
        "id": "SC-6qlfdHCz5",
        "colab_type": "code",
        "colab": {
          "base_uri": "https://localhost:8080/",
          "height": 51
        },
        "outputId": "abad8fca-3aa3-4ac2-e8ae-852d67290946"
      },
      "source": [
        "img_dims = 150\n",
        "epochs = 30\n",
        "batch_size = 2\n",
        "\n",
        "# Set Images&Labels for Train,Test\n",
        "train_images, train_labels, test_images, test_labels = preprocess_data(input_path, img_dims, batch_size)"
      ],
      "execution_count": 7,
      "outputs": [
        {
          "output_type": "stream",
          "text": [
            "Found 2951 images belonging to 3 classes.\n",
            "Found 624 images belonging to 3 classes.\n"
          ],
          "name": "stdout"
        }
      ]
    }
  ]
}