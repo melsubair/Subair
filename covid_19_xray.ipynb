{
  "nbformat": 4,
  "nbformat_minor": 0,
  "metadata": {
    "colab": {
      "name": "covid-19-xray.ipynb",
      "provenance": [],
      "collapsed_sections": [],
      "authorship_tag": "ABX9TyOs4mIQG9JK5YDdDAmFxuom",
      "include_colab_link": true
    },
    "kernelspec": {
      "name": "python3",
      "display_name": "Python 3"
    }
  },
  "cells": [
    {
      "cell_type": "markdown",
      "metadata": {
        "id": "view-in-github",
        "colab_type": "text"
      },
      "source": [
        "<a href=\"https://colab.research.google.com/github/melsubair/Subair/blob/master/covid_19_xray.ipynb\" target=\"_parent\"><img src=\"https://colab.research.google.com/assets/colab-badge.svg\" alt=\"Open In Colab\"/></a>"
      ]
    },
    {
      "cell_type": "code",
      "metadata": {
        "id": "-uE_m1uP6Tfo",
        "colab_type": "code",
        "colab": {
          "base_uri": "https://localhost:8080/",
          "height": 34
        },
        "outputId": "07cd8102-372c-489e-faf2-377c0fa795e3"
      },
      "source": [
        "import os\n",
        "import cv2\n",
        "import scipy\n",
        "import warnings\n",
        "import numpy as np\n",
        "from tqdm import tqdm\n",
        "from random import shuffle\n",
        "import matplotlib.pyplot as plt\n",
        "\n",
        "from keras.optimizers import Adam, RMSprop\n",
        "from keras.models import Sequential, Model\n",
        "from keras.layers import  Conv2D, MaxPooling2D, Activation, Flatten,Dense, Dropout, GlobalAveragePooling2D, BatchNormalization\n",
        "from keras.preprocessing.image import ImageDataGenerator, img_to_array, load_img"
      ],
      "execution_count": 1,
      "outputs": [
        {
          "output_type": "stream",
          "text": [
            "Using TensorFlow backend.\n"
          ],
          "name": "stderr"
        }
      ]
    },
    {
      "cell_type": "code",
      "metadata": {
        "id": "4HPvQqX06yiy",
        "colab_type": "code",
        "colab": {}
      },
      "source": [
        "# Filter Warnings\n",
        "warnings.filterwarnings(\"ignore\")"
      ],
      "execution_count": 2,
      "outputs": []
    },
    {
      "cell_type": "code",
      "metadata": {
        "id": "wscepGxRDsll",
        "colab_type": "code",
        "colab": {}
      },
      "source": [
        "# File Paths\n",
        "input_path = \"../covid-19-xray/\""
      ],
      "execution_count": 3,
      "outputs": []
    },
    {
      "cell_type": "code",
      "metadata": {
        "id": "x3-paicSEBaZ",
        "colab_type": "code",
        "colab": {
          "base_uri": "https://localhost:8080/",
          "height": 51
        },
        "outputId": "d199dbb8-3cc6-422b-99d3-e15c04641210"
      },
      "source": [
        "# File Contents\n",
        "for _set in ['train', 'validation']:\n",
        "    normal = len(os.listdir(input_path + _set + '/normal'))\n",
        "    pneumonia = len(os.listdir(input_path + _set + '/pneumonia'))\n",
        "    print('The {} folder contains {} Normal and {} Pneumonia images.'.format(_set, normal, pneumonia))"
      ],
      "execution_count": 4,
      "outputs": [
        {
          "output_type": "stream",
          "text": [
            "The train folder contains 1336 Normal and 1615 Pneumonia images.\n",
            "The validation folder contains 8 Normal and 8 Pneumonia images.\n"
          ],
          "name": "stdout"
        }
      ]
    }
  ]
}